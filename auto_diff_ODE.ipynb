{
  "nbformat": 4,
  "nbformat_minor": 0,
  "metadata": {
    "colab": {
      "provenance": []
    },
    "kernelspec": {
      "name": "python3",
      "display_name": "Python 3"
    },
    "language_info": {
      "name": "python"
    }
  },
  "cells": [
    {
      "cell_type": "markdown",
      "source": [
        "This code uses JAX to solve an ODE function dy/dt = A * y, and optimize parameter A such that y(t1) equals a target value 20.\n",
        "\n",
        "It uses adam to update the parameter during training.\n"
      ],
      "metadata": {
        "id": "PUNF_n1I-kGx"
      }
    },
    {
      "cell_type": "code",
      "source": [
        "!pip install optax\n"
      ],
      "metadata": {
        "colab": {
          "base_uri": "https://localhost:8080/"
        },
        "id": "OnCzcdwGANY2",
        "outputId": "b7a79f3b-7908-4e0f-f575-211cbaeff83e"
      },
      "execution_count": 1,
      "outputs": [
        {
          "output_type": "stream",
          "name": "stdout",
          "text": [
            "Requirement already satisfied: optax in /usr/local/lib/python3.10/dist-packages (0.2.3)\n",
            "Requirement already satisfied: absl-py>=0.7.1 in /usr/local/lib/python3.10/dist-packages (from optax) (1.4.0)\n",
            "Requirement already satisfied: chex>=0.1.86 in /usr/local/lib/python3.10/dist-packages (from optax) (0.1.87)\n",
            "Requirement already satisfied: jax>=0.4.27 in /usr/local/lib/python3.10/dist-packages (from optax) (0.4.33)\n",
            "Requirement already satisfied: jaxlib>=0.4.27 in /usr/local/lib/python3.10/dist-packages (from optax) (0.4.33)\n",
            "Requirement already satisfied: numpy>=1.18.0 in /usr/local/lib/python3.10/dist-packages (from optax) (1.26.4)\n",
            "Requirement already satisfied: etils[epy] in /usr/local/lib/python3.10/dist-packages (from optax) (1.10.0)\n",
            "Requirement already satisfied: typing-extensions>=4.2.0 in /usr/local/lib/python3.10/dist-packages (from chex>=0.1.86->optax) (4.12.2)\n",
            "Requirement already satisfied: toolz>=0.9.0 in /usr/local/lib/python3.10/dist-packages (from chex>=0.1.86->optax) (0.12.1)\n",
            "Requirement already satisfied: ml-dtypes>=0.2.0 in /usr/local/lib/python3.10/dist-packages (from jax>=0.4.27->optax) (0.4.1)\n",
            "Requirement already satisfied: opt-einsum in /usr/local/lib/python3.10/dist-packages (from jax>=0.4.27->optax) (3.4.0)\n",
            "Requirement already satisfied: scipy>=1.10 in /usr/local/lib/python3.10/dist-packages (from jax>=0.4.27->optax) (1.13.1)\n"
          ]
        }
      ]
    },
    {
      "cell_type": "code",
      "source": [
        "!pip install diffrax\n"
      ],
      "metadata": {
        "colab": {
          "base_uri": "https://localhost:8080/"
        },
        "id": "i0D4SRaz-Y1W",
        "outputId": "2c7e7a69-9af3-4a2c-d8b1-2947f55792de"
      },
      "execution_count": 2,
      "outputs": [
        {
          "output_type": "stream",
          "name": "stdout",
          "text": [
            "Collecting diffrax\n",
            "  Downloading diffrax-0.6.0-py3-none-any.whl.metadata (17 kB)\n",
            "Collecting equinox>=0.11.2 (from diffrax)\n",
            "  Downloading equinox-0.11.8-py3-none-any.whl.metadata (18 kB)\n",
            "Requirement already satisfied: jax>=0.4.28 in /usr/local/lib/python3.10/dist-packages (from diffrax) (0.4.33)\n",
            "Collecting jaxtyping>=0.2.24 (from diffrax)\n",
            "  Downloading jaxtyping-0.2.34-py3-none-any.whl.metadata (6.4 kB)\n",
            "Collecting lineax>=0.0.5 (from diffrax)\n",
            "  Downloading lineax-0.0.7-py3-none-any.whl.metadata (17 kB)\n",
            "Collecting optimistix>=0.0.7 (from diffrax)\n",
            "  Downloading optimistix-0.0.9-py3-none-any.whl.metadata (17 kB)\n",
            "Collecting typeguard==2.13.3 (from diffrax)\n",
            "  Downloading typeguard-2.13.3-py3-none-any.whl.metadata (3.6 kB)\n",
            "Requirement already satisfied: typing-extensions>=4.5.0 in /usr/local/lib/python3.10/dist-packages (from diffrax) (4.12.2)\n",
            "Requirement already satisfied: jaxlib<=0.4.33,>=0.4.33 in /usr/local/lib/python3.10/dist-packages (from jax>=0.4.28->diffrax) (0.4.33)\n",
            "Requirement already satisfied: ml-dtypes>=0.2.0 in /usr/local/lib/python3.10/dist-packages (from jax>=0.4.28->diffrax) (0.4.1)\n",
            "Requirement already satisfied: numpy>=1.24 in /usr/local/lib/python3.10/dist-packages (from jax>=0.4.28->diffrax) (1.26.4)\n",
            "Requirement already satisfied: opt-einsum in /usr/local/lib/python3.10/dist-packages (from jax>=0.4.28->diffrax) (3.4.0)\n",
            "Requirement already satisfied: scipy>=1.10 in /usr/local/lib/python3.10/dist-packages (from jax>=0.4.28->diffrax) (1.13.1)\n",
            "Downloading diffrax-0.6.0-py3-none-any.whl (171 kB)\n",
            "\u001b[2K   \u001b[90m━━━━━━━━━━━━━━━━━━━━━━━━━━━━━━━━━━━━━━━━\u001b[0m \u001b[32m171.3/171.3 kB\u001b[0m \u001b[31m6.8 MB/s\u001b[0m eta \u001b[36m0:00:00\u001b[0m\n",
            "\u001b[?25hDownloading typeguard-2.13.3-py3-none-any.whl (17 kB)\n",
            "Downloading equinox-0.11.8-py3-none-any.whl (179 kB)\n",
            "\u001b[2K   \u001b[90m━━━━━━━━━━━━━━━━━━━━━━━━━━━━━━━━━━━━━━━━\u001b[0m \u001b[32m179.3/179.3 kB\u001b[0m \u001b[31m9.6 MB/s\u001b[0m eta \u001b[36m0:00:00\u001b[0m\n",
            "\u001b[?25hDownloading jaxtyping-0.2.34-py3-none-any.whl (42 kB)\n",
            "\u001b[2K   \u001b[90m━━━━━━━━━━━━━━━━━━━━━━━━━━━━━━━━━━━━━━━━\u001b[0m \u001b[32m42.4/42.4 kB\u001b[0m \u001b[31m2.3 MB/s\u001b[0m eta \u001b[36m0:00:00\u001b[0m\n",
            "\u001b[?25hDownloading lineax-0.0.7-py3-none-any.whl (67 kB)\n",
            "\u001b[2K   \u001b[90m━━━━━━━━━━━━━━━━━━━━━━━━━━━━━━━━━━━━━━━━\u001b[0m \u001b[32m67.3/67.3 kB\u001b[0m \u001b[31m3.8 MB/s\u001b[0m eta \u001b[36m0:00:00\u001b[0m\n",
            "\u001b[?25hDownloading optimistix-0.0.9-py3-none-any.whl (83 kB)\n",
            "\u001b[2K   \u001b[90m━━━━━━━━━━━━━━━━━━━━━━━━━━━━━━━━━━━━━━━━\u001b[0m \u001b[32m83.6/83.6 kB\u001b[0m \u001b[31m2.0 MB/s\u001b[0m eta \u001b[36m0:00:00\u001b[0m\n",
            "\u001b[?25hInstalling collected packages: typeguard, jaxtyping, equinox, lineax, optimistix, diffrax\n",
            "  Attempting uninstall: typeguard\n",
            "    Found existing installation: typeguard 4.4.1\n",
            "    Uninstalling typeguard-4.4.1:\n",
            "      Successfully uninstalled typeguard-4.4.1\n",
            "\u001b[31mERROR: pip's dependency resolver does not currently take into account all the packages that are installed. This behaviour is the source of the following dependency conflicts.\n",
            "inflect 7.4.0 requires typeguard>=4.0.1, but you have typeguard 2.13.3 which is incompatible.\u001b[0m\u001b[31m\n",
            "\u001b[0mSuccessfully installed diffrax-0.6.0 equinox-0.11.8 jaxtyping-0.2.34 lineax-0.0.7 optimistix-0.0.9 typeguard-2.13.3\n"
          ]
        }
      ]
    },
    {
      "cell_type": "code",
      "execution_count": 4,
      "metadata": {
        "colab": {
          "base_uri": "https://localhost:8080/",
          "height": 541
        },
        "id": "PcYY2vaO-X04",
        "outputId": "fd69e895-a818-45be-b949-70cfe1b1f7e6"
      },
      "outputs": [
        {
          "output_type": "stream",
          "name": "stdout",
          "text": [
            "Training time: 7.1064372062683105 seconds\n",
            "Optimized t: 2.9957561\n",
            "Optimized y(t1): 20.000484\n",
            "Target y:  20\n"
          ]
        },
        {
          "output_type": "display_data",
          "data": {
            "text/plain": [
              "<Figure size 640x480 with 1 Axes>"
            ],
            "image/png": "[encoded data removed]"
          },
          "metadata": {}
        }
      ],
      "source": [
        "import jax\n",
        "import jax.numpy as jnp\n",
        "import diffrax # for numerical solver\n",
        "import optax # for optimization\n",
        "from jax import grad\n",
        "import matplotlib.pyplot as plt\n",
        "import time\n",
        "\n",
        "# Define the ODE system dy/dt = A * y, A is a constant\n",
        "def f(t, y, args):\n",
        "    param = args[0]\n",
        "    dydt = param * y\n",
        "    return dydt\n",
        "\n",
        "# Define the numerical solver using diffrax\n",
        "# Solve for y at t1\n",
        "def solve_ode(param, y0=1.0, t0=0.0, t1=1.0):\n",
        "    y0 = jnp.array([y0])\n",
        "    term = diffrax.ODETerm(f)\n",
        "    solver = diffrax.Tsit5()\n",
        "    solution = diffrax.diffeqsolve(\n",
        "        term,\n",
        "        solver,\n",
        "        t0=t0,\n",
        "        t1=t1,\n",
        "        dt0=0.1,\n",
        "        y0=y0,\n",
        "        args=(param,),\n",
        "    )\n",
        "    return solution.ys[-1, 0]  # return y(t)\n",
        "\n",
        "# Optimizaiton objective -- optimize for a target y = 10\n",
        "def objective(t, target_y):\n",
        "    y_t1 = solve_ode(t)\n",
        "    y_target = 20.0 # target y value\n",
        "    loss = (y_target - y_t1) ** 2 # L2 loss\n",
        "    return loss\n",
        "\n",
        "# Initialize the Adam optimizer with optax\n",
        "learning_rate = 0.1\n",
        "optimizer = optax.adam(learning_rate)\n",
        "opt_state = optimizer.init(jnp.array([1.0])) # Initial guess for the parameter\n",
        "\n",
        "# Preallocate an array for storing t history\n",
        "num_epoch = 200\n",
        "param_hist = jnp.zeros(num_epoch)\n",
        "target_y = 20\n",
        "# Optimization loop\n",
        "param = jnp.array([1.0])  # Initial t guess\n",
        "start_time = time.time()\n",
        "for i in range(num_epoch):\n",
        "    grads = grad(objective)(param, target_y)\n",
        "    updates, opt_state = optimizer.update(grads, opt_state)\n",
        "    param = optax.apply_updates(param, updates)  # Update param\n",
        "    param_hist = param_hist.at[i].set(param[0])  # Store current param\n",
        "\n",
        "end_time = time.time()\n",
        "training_time = end_time - start_time\n",
        "print(\"Training time:\", training_time, \"seconds\")\n",
        "\n",
        "optimized_param = param[0]\n",
        "optimized_y = solve_ode(optimized_param)\n",
        "\n",
        "print(\"Optimized t:\", optimized_param)\n",
        "print(\"Optimized y(t1):\", optimized_y)\n",
        "print('Target y: ', target_y)\n",
        "plt.plot(param_hist)\n",
        "plt.xlabel(\"Epoch\")\n",
        "plt.ylabel(\"y(t1)\")\n",
        "plt.title(\"Learning History\")\n",
        "plt.show()"
      ]
    }
  ]
}